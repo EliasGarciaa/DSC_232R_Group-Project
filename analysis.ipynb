{
 "cells": [
  {
   "cell_type": "markdown",
   "id": "3f657143-e2b4-4e92-82a0-ee8b58dbb300",
   "metadata": {
    "jp-MarkdownHeadingCollapsed": true
   },
   "source": [
    "# Importing Libraries"
   ]
  },
  {
   "cell_type": "code",
   "execution_count": 1,
   "id": "3b4a0685-78a1-40b4-845e-e4ef8d1fcf67",
   "metadata": {},
   "outputs": [],
   "source": [
    "# Importing Libraries\n",
    "import os, pickle, glob, sys\n",
    "from pyspark.sql import SparkSession, Row\n",
    "from pyspark.sql.functions import col, when, udf\n",
    "from pyspark.sql.types import StructType, StructField, StringType, IntegerType, FloatType, DoubleType\n",
    "import pandas as pd\n",
    "import numpy as np\n",
    "#import matplotlib.pyplot as plt"
   ]
  },
  {
   "cell_type": "code",
   "execution_count": 2,
   "id": "59a3937d-ef3e-41cd-a513-b0809098f0a1",
   "metadata": {},
   "outputs": [
    {
     "name": "stdout",
     "output_type": "stream",
     "text": [
      "<pyspark.sql.session.SparkSession object at 0x155526fc8290>\n"
     ]
    }
   ],
   "source": [
    "# Initializing SparkSession\n",
    "sc = SparkSession.builder \\\n",
    "    .config(\"spark.driver.memory\", \"10g\") \\\n",
    "\t.config(\"spark.executor.memory\", \"10g\") \\\n",
    "    .config('spark.executor.instances', 5) \\\n",
    "\t.getOrCreate()\n",
    "print(sc)"
   ]
  },
  {
   "cell_type": "code",
   "execution_count": 3,
   "id": "7e71ba29-e17c-4c77-a7e7-e7b0ef1e26b2",
   "metadata": {},
   "outputs": [],
   "source": [
    "csv_file = \"./us_congestion_2016_2022/us_congestion_2016_2022.csv\""
   ]
  },
  {
   "cell_type": "code",
   "execution_count": null,
   "id": "78e5cabe-3990-46e1-a874-2b7ece314109",
   "metadata": {},
   "outputs": [],
   "source": [
    "df = sc.read.csv(csv_file, header=True, inferSchema=True)"
   ]
  },
  {
   "cell_type": "markdown",
   "id": "323c4a38-7519-4b9e-a8c9-16d53329e949",
   "metadata": {},
   "source": [
    "# Exploring Data"
   ]
  },
  {
   "cell_type": "code",
   "execution_count": 5,
   "id": "a3b1d241-d5d3-40ac-9d71-a763851c52ac",
   "metadata": {},
   "outputs": [
    {
     "name": "stdout",
     "output_type": "stream",
     "text": [
      "Row(ID='C-1', Severity=0, Start_Lat=42.410881, Start_Lng=-71.147995, StartTime=datetime.datetime(2020, 11, 10, 14, 54), EndTime=datetime.datetime(2020, 11, 10, 16, 29, 27), Distance(mi)=3.990000009536743, DelayFromTypicalTraffic(mins)=0.0, DelayFromFreeFlowSpeed(mins)=4.0, Congestion_Speed='Moderate', Description='Delays of four minutes and delays increasing on Massachusetts Ave Westbound between MA-2A Massachusetts Ave and US-3 Mass Ave. Average speed 15 mph.', Street='Wyman Ter', City='Arlington', County='Middlesex', State='MA', Country='US', ZipCode='02474-6726', LocalTimeZone='US/Eastern', WeatherStation_AirportCode='KBED', WeatherTimeStamp=datetime.datetime(2020, 11, 10, 14, 51), Temperature(F)=64.0, WindChill(F)=64.0, Humidity(%)=63.0, Pressure(in)=29.93, Visibility(mi)=10.0, WindDir='SSW', WindSpeed(mph)=7.0, Precipitation(in)=0.0, Weather_Event=None, Weather_Conditions='Fair')\n"
     ]
    }
   ],
   "source": [
    "# Inspecting First Row\n",
    "first_row = df.take(1)[0]\n",
    "print(first_row)"
   ]
  },
  {
   "cell_type": "code",
   "execution_count": 8,
   "id": "68882288-7b6e-43bb-89ca-b17a5259c5c3",
   "metadata": {},
   "outputs": [
    {
     "name": "stdout",
     "output_type": "stream",
     "text": [
      "root\n",
      " |-- ID: string (nullable = true)\n",
      " |-- Severity: integer (nullable = true)\n",
      " |-- Start_Lat: double (nullable = true)\n",
      " |-- Start_Lng: double (nullable = true)\n",
      " |-- StartTime: timestamp (nullable = true)\n",
      " |-- EndTime: timestamp (nullable = true)\n",
      " |-- Distance(mi): double (nullable = true)\n",
      " |-- DelayFromTypicalTraffic(mins): double (nullable = true)\n",
      " |-- DelayFromFreeFlowSpeed(mins): double (nullable = true)\n",
      " |-- Congestion_Speed: string (nullable = true)\n",
      " |-- Description: string (nullable = true)\n",
      " |-- Street: string (nullable = true)\n",
      " |-- City: string (nullable = true)\n",
      " |-- County: string (nullable = true)\n",
      " |-- State: string (nullable = true)\n",
      " |-- Country: string (nullable = true)\n",
      " |-- ZipCode: string (nullable = true)\n",
      " |-- LocalTimeZone: string (nullable = true)\n",
      " |-- WeatherStation_AirportCode: string (nullable = true)\n",
      " |-- WeatherTimeStamp: timestamp (nullable = true)\n",
      " |-- Temperature(F): double (nullable = true)\n",
      " |-- WindChill(F): double (nullable = true)\n",
      " |-- Humidity(%): double (nullable = true)\n",
      " |-- Pressure(in): double (nullable = true)\n",
      " |-- Visibility(mi): double (nullable = true)\n",
      " |-- WindDir: string (nullable = true)\n",
      " |-- WindSpeed(mph): double (nullable = true)\n",
      " |-- Precipitation(in): double (nullable = true)\n",
      " |-- Weather_Event: string (nullable = true)\n",
      " |-- Weather_Conditions: string (nullable = true)\n",
      "\n"
     ]
    }
   ],
   "source": [
    "# Check the schema\n",
    "df.printSchema()"
   ]
  },
  {
   "cell_type": "code",
   "execution_count": 10,
   "id": "46da47fa-38ae-408a-83fe-bf712bfcb54b",
   "metadata": {},
   "outputs": [
    {
     "name": "stdout",
     "output_type": "stream",
     "text": [
      "DataFrame has 33304199 rows and 30 columns.\n"
     ]
    }
   ],
   "source": [
    "def shape(df):\n",
    "    num_rows = df.count()\n",
    "    num_cols = len(df.columns)\n",
    "    return num_rows, num_cols\n",
    "\n",
    "df_rows, df_cols = shape(df)\n",
    "print(\"DataFrame has {} rows and {} columns.\".format(df_rows, df_cols))"
   ]
  },
  {
   "cell_type": "markdown",
   "id": "c05226cf-f14c-4934-ab77-659de7d26b97",
   "metadata": {},
   "source": [
    "# Data Cleaning and Filtering"
   ]
  },
  {
   "cell_type": "code",
   "execution_count": 11,
   "id": "7d59a2fe-706e-44ab-8b51-0b444ae54467",
   "metadata": {},
   "outputs": [],
   "source": [
    "# Handle missing values\n",
    "df = df.dropna()\n",
    "\n",
    "# Remove duplicates\n",
    "df = df.dropDuplicates()"
   ]
  },
  {
   "cell_type": "code",
   "execution_count": 12,
   "id": "4514080b-61c1-400a-8ffa-afae3e43a1e3",
   "metadata": {
    "scrolled": true
   },
   "outputs": [
    {
     "name": "stdout",
     "output_type": "stream",
     "text": [
      "+--------+--------+----------------------------+-------------------+----------------+-----+------------+--------------+--------------+-----------------+-------------+\n",
      "|      ID|Severity|DelayFromFreeFlowSpeed(mins)|          StartTime|Congestion_Speed|State|Pressure(in)|Visibility(mi)|WindSpeed(mph)|Precipitation(in)|Weather_Event|\n",
      "+--------+--------+----------------------------+-------------------+----------------+-----+------------+--------------+--------------+-----------------+-------------+\n",
      "| C-88197|       2|           5.119999885559082|2018-11-28 21:18:00|        Moderate|   NY|       29.78|          10.0|          15.0|              0.0|         Snow|\n",
      "| C-89281|       1|           6.269999980926514|2018-11-28 12:01:00|        Moderate|   MI|       29.92|           9.0|          18.4|              0.0|         Snow|\n",
      "|C-106956|       2|            18.1200008392334|2018-11-28 23:42:00|            Slow|   MN|        29.9|           4.0|           8.1|              0.0|         Snow|\n",
      "|C-121261|       2|           7.199999809265138|2018-11-29 22:00:00|        Moderate|   CA|       29.45|           0.5|           8.1|             0.03|    Fog ;Snow|\n",
      "|C-290614|       1|           5.519999980926514|2019-01-31 06:27:00|            Fast|   PA|       30.29|           1.2|          13.8|              0.0|         Snow|\n",
      "|C-295366|       1|           6.300000190734862|2019-02-01 02:24:00|            Fast|   IN|       30.36|           1.8|           5.8|             0.03|         Snow|\n",
      "|C-311208|       2|           9.949999809265137|2019-02-01 17:51:00|            Slow|   PA|       30.43|           3.0|           5.8|              0.0|         Snow|\n",
      "|C-311622|       1|          12.270000457763672|2019-02-01 20:22:00|            Slow|   PA|       30.38|           1.8|           3.5|              0.0|         Snow|\n",
      "|C-313891|       2|           5.579999923706055|2019-02-01 12:41:00|        Moderate|   WV|       30.29|           1.0|           5.8|              0.0|         Snow|\n",
      "| C-95719|       2|          10.979999542236328|2018-11-30 00:43:00|            Fast|   PA|       30.05|           2.5|           4.6|              0.0|         Snow|\n",
      "| C-97254|       1|                        5.25|2018-11-28 23:59:00|            Fast|   PA|       29.82|           3.0|          13.8|              0.0|         Snow|\n",
      "|C-122996|       2|           8.079999923706055|2018-11-30 05:12:00|        Moderate|   CA|       29.66|           0.2|           3.5|             0.01|    Fog ;Snow|\n",
      "|C-124883|       2|           6.079999923706055|2017-09-22 01:11:00|            Fast|   NV|       29.86|           0.5|           3.5|             0.02|    Fog ;Snow|\n",
      "|C-313109|       1|          6.6500000953674325|2019-02-01 09:21:00|            Fast|   PA|       30.31|           2.5|           3.5|              0.0|         Snow|\n",
      "|C-313556|       2|          28.229999542236328|2019-02-01 12:07:00|            Slow|   PA|       30.27|           2.5|           3.5|              0.0|         Snow|\n",
      "|C-313674|       1|           5.769999980926514|2019-02-01 12:20:00|            Fast|   PA|       30.25|           1.2|           6.9|              0.0|         Snow|\n",
      "|C-315780|       1|           8.279999732971191|2019-02-01 12:32:00|            Slow|   PA|       30.43|           2.5|           3.5|              0.0|         Snow|\n",
      "|C-320577|       1|                         7.0|2019-02-01 11:41:00|        Moderate|   OH|       30.27|           0.8|           4.6|              0.0|         Snow|\n",
      "|C-321597|       1|           6.519999980926514|2019-02-01 12:59:00|        Moderate|   OH|       30.35|           1.8|           4.6|              0.0|         Snow|\n",
      "|C-330354|       1|           6.019999980926514|2019-02-01 13:06:00|        Moderate|   TN|       30.27|           9.0|           5.8|              0.0|         Rain|\n",
      "+--------+--------+----------------------------+-------------------+----------------+-----+------------+--------------+--------------+-----------------+-------------+\n",
      "only showing top 20 rows\n",
      "\n"
     ]
    }
   ],
   "source": [
    "# Filtering Fields\n",
    "#Filter out specific fields we want to keep\n",
    "fields_to_keep = ['ID', 'Severity', 'DelayFromFreeFlowSpeed(mins)', 'StartTime', 'Congestion_Speed', 'State', 'Pressure(in)', 'Visibility(mi)', 'WindSpeed(mph)', 'Precipitation(in)', 'Weather_Event']\n",
    "\n",
    "# 33m to 5m data if I filter out the 5 min or longer for traffic\n",
    "filtered_df = df.select(*fields_to_keep).where(col(\"State\").isNotNull()).where(col(\"DelayFromFreeFlowSpeed(mins)\") > 5.0)\n",
    "filtered_df.show()"
   ]
  },
  {
   "cell_type": "code",
   "execution_count": 13,
   "id": "77d1eb80-570b-4055-ad35-17dbf12c972b",
   "metadata": {},
   "outputs": [
    {
     "name": "stdout",
     "output_type": "stream",
     "text": [
      "+-----+-----+\n",
      "|State|count|\n",
      "+-----+-----+\n",
      "|   AZ| 1224|\n",
      "|   SC|  679|\n",
      "|   LA|  361|\n",
      "|   MN| 7052|\n",
      "|   NJ|11079|\n",
      "|   DC|  441|\n",
      "|   OR| 6069|\n",
      "|   VA| 3471|\n",
      "|   RI| 2265|\n",
      "|   WY| 1866|\n",
      "|   KY| 2588|\n",
      "|   NH| 1699|\n",
      "|   MI|12754|\n",
      "|   NV| 1255|\n",
      "|   WI| 2617|\n",
      "|   ID| 1594|\n",
      "|   CA| 7106|\n",
      "|   NE| 2055|\n",
      "|   CT| 6573|\n",
      "|   MT| 2858|\n",
      "+-----+-----+\n",
      "only showing top 20 rows\n",
      "\n"
     ]
    }
   ],
   "source": [
    "# Grouping by State\n",
    "state_count_df = filtered_df.groupBy(\"State\").count()\n",
    "state_count_df.show()"
   ]
  },
  {
   "cell_type": "code",
   "execution_count": 14,
   "id": "912eb9b5-1ba6-4a20-9478-9ad3ae9e0e8a",
   "metadata": {},
   "outputs": [
    {
     "data": {
      "text/plain": [
       "250488"
      ]
     },
     "execution_count": 14,
     "metadata": {},
     "output_type": "execute_result"
    }
   ],
   "source": [
    "# Cleaning 'Congestion_Speed' Column\n",
    "cleaned_df = filtered_df.withColumn(\"Congestion_Speed\", when(col(\"Congestion_Speed\") == \"Slow\", 0).when(col(\"Congestion_Speed\") == \"Moderate\", 1).when(col(\"Congestion_Speed\") == \"Fast\", 3))\n",
    "cleaned_df.count()"
   ]
  },
  {
   "cell_type": "code",
   "execution_count": 15,
   "id": "45d7a0ff-a2b8-4acc-a932-411b83c0b542",
   "metadata": {},
   "outputs": [
    {
     "name": "stdout",
     "output_type": "stream",
     "text": [
      "+--------------------+------+\n",
      "|       Weather_Event| count|\n",
      "+--------------------+------+\n",
      "|        Thunderstorm|   133|\n",
      "|   Fog ;Thunderstorm|    75|\n",
      "|  Rain ;Thunderstorm|   535|\n",
      "|  Snow ;Thunderstorm|   195|\n",
      "|                 Fog|  2807|\n",
      "|Rain ;Snow ;Thund...|    11|\n",
      "|Fog ;Snow ;Thunde...|   271|\n",
      "|          Rain ;Snow|  1034|\n",
      "|                Snow|148239|\n",
      "|                Rain| 46503|\n",
      "|          Snow ;Hail|     3|\n",
      "|           Fog ;Rain|   813|\n",
      "|Fog ;Rain ;Thunde...|     5|\n",
      "|           Fog ;Snow| 49844|\n",
      "|     Fog ;Rain ;Snow|    17|\n",
      "|          Rain ;Hail|     2|\n",
      "|Rain ;Hail ;Thund...|     1|\n",
      "+--------------------+------+\n",
      "\n"
     ]
    }
   ],
   "source": [
    "# Grouping by 'Weather_Event' and Counting\n",
    "weather_counts = filtered_df.groupBy(\"Weather_Event\").count()\n",
    "weather_counts.show()\n",
    "#Thunderstorm, Rain, Fog, Snow, Tornado, Hail"
   ]
  },
  {
   "cell_type": "code",
   "execution_count": 17,
   "id": "efa77364-46e4-4ac0-b340-b60a3dcac65d",
   "metadata": {},
   "outputs": [],
   "source": [
    "# 1. Extract columns for the Accident table\n",
    "accident_df = df.select(\n",
    "    \"ID\", \"Severity\", \"Start_Lat\", \"Start_Lng\",\n",
    "    \"StartTime\", \"EndTime\", \"Distance(mi)\",\n",
    "    \"DelayFromTypicalTraffic(mins)\",\n",
    "    \"DelayFromFreeFlowSpeed(mins)\", \"Description\"\n",
    ")\n",
    "\n",
    "# 2. Extract columns for the Location table\n",
    "location_df = df.select(\n",
    "    \"ID\", \"Street\", \"City\", \"County\", \"State\",\n",
    "    \"Country\", \"ZipCode\", \"LocalTimeZone\"\n",
    ")\n",
    "\n",
    "# 3. Extract columns for the Weather table\n",
    "weather_df = df.select(\n",
    "    \"ID\", \"WeatherStation_AirportCode\", \"WeatherTimeStamp\",\n",
    "    \"Temperature(F)\", \"WindChill(F)\", \"Humidity(%)\",\n",
    "    \"Pressure(in)\", \"Visibility(mi)\", \"WindDir\",\n",
    "    \"WindSpeed(mph)\", \"Precipitation(in)\",\n",
    "    \"Weather_Event\", \"Weather_Conditions\"\n",
    ")\n",
    "\n",
    "# Write the normalized DataFrames to separate Parquet files\n",
    "# Replace \"path/to/output_directory\" with your desired output directory\n",
    "accident_df.write.parquet(\"/expanse/lustre/projects/uci150/egarcia1/accident_table.parquet\")\n",
    "location_df.write.parquet(\"/expanse/lustre/projects/uci150/egarcia1/location_table.parquet\")\n",
    "weather_df.write.parquet(\"/expanse/lustre/projects/uci150/egarcia1/weather_table.parquet\")"
   ]
  },
  {
   "cell_type": "code",
   "execution_count": null,
   "id": "548e85c6-db22-4658-870b-853e125d4cd7",
   "metadata": {},
   "outputs": [],
   "source": [
    "#pdf = cleaned_df.toPandas()"
   ]
  },
  {
   "cell_type": "markdown",
   "id": "2916305c-bc12-423d-8a19-a6d72c1afe15",
   "metadata": {},
   "source": [
    "# Data Visualization"
   ]
  },
  {
   "cell_type": "code",
   "execution_count": 19,
   "id": "faadd0f0-7b27-46df-9a07-3d7b45025173",
   "metadata": {},
   "outputs": [
    {
     "data": {
      "image/png": "[encoded data removed]",
      "text/plain": [
       "<Figure size 1000x600 with 1 Axes>"
      ]
     },
     "metadata": {},
     "output_type": "display_data"
    }
   ],
   "source": [
    "import matplotlib.pyplot as plt\n",
    "\n",
    "# Read the Parquet file containing the Accident Table\n",
    "accident_df = sc.read.parquet(\"/expanse/lustre/projects/uci150/egarcia1/accident_table.parquet\")\n",
    "\n",
    "# Select only Severity and DelayFromTypicalTraffic columns\n",
    "severity_delay_df = accident_df.select(\"Severity\", \"DelayFromTypicalTraffic(mins)\")\n",
    "\n",
    "# Convert DataFrame to Pandas DataFrame\n",
    "severity_delay_pd = severity_delay_df.toPandas()\n",
    "\n",
    "# Plot Severity vs. DelayFromTypicalTraffic\n",
    "plt.figure(figsize=(10, 6))\n",
    "plt.scatter(severity_delay_pd['Severity'], severity_delay_pd['DelayFromTypicalTraffic(mins)'], alpha=0.5)\n",
    "plt.title('Severity vs. DelayFromTypicalTraffic')\n",
    "plt.xlabel('Severity')\n",
    "plt.ylabel('DelayFromTypicalTraffic (mins)')\n",
    "plt.grid(True)\n",
    "plt.show()"
   ]
  }
 ],
 "metadata": {
  "kernelspec": {
   "display_name": "Python 3 (ipykernel)",
   "language": "python",
   "name": "python3"
  },
  "language_info": {
   "codemirror_mode": {
    "name": "ipython",
    "version": 3
   },
   "file_extension": ".py",
   "mimetype": "text/x-python",
   "name": "python",
   "nbconvert_exporter": "python",
   "pygments_lexer": "ipython3",
   "version": "3.11.6"
  }
 },
 "nbformat": 4,
 "nbformat_minor": 5
}
