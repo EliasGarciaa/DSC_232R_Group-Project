{
 "cells": [
  {
   "cell_type": "code",
   "execution_count": 1,
   "id": "3b4a0685-78a1-40b4-845e-e4ef8d1fcf67",
   "metadata": {},
   "outputs": [],
   "source": [
    "import os, pickle, glob\n",
    "from pyspark.sql import SparkSession, Row\n",
    "from pyspark.sql.functions import col\n",
    "#from pyspark.sql.types import StructType, StructField, StringType, IntegerType, FloatType, DoubleType\n",
    "import pandas as pd"
   ]
  },
  {
   "cell_type": "code",
   "execution_count": 2,
   "id": "59a3937d-ef3e-41cd-a513-b0809098f0a1",
   "metadata": {},
   "outputs": [],
   "source": [
    "sc = SparkSession.builder \\\n",
    "    .config(\"spark.driver.memory\", \"10g\") \\\n",
    "\t.config(\"spark.executor.memory\", \"10g\") \\\n",
    "    .config('spark.executor.instances', 5) \\\n",
    "\t.getOrCreate()"
   ]
  },
  {
   "cell_type": "code",
   "execution_count": null,
   "id": "fabb6919-8474-4be8-8403-5a6a1d18701b",
   "metadata": {},
   "outputs": [],
   "source": [
    "#!unzip ./traffic_congestion.zip\n",
    "csv_file = \"./us_congestion_2016_2022/us_congestion_2016_2022.csv\"\n",
    "df = sc.read.csv(csv_file, header=True, inferSchema=True)"
   ]
  },
  {
   "cell_type": "code",
   "execution_count": null,
   "id": "a3b1d241-d5d3-40ac-9d71-a763851c52ac",
   "metadata": {},
   "outputs": [],
   "source": [
    "first_row = df.take(1)[0]\n",
    "print(first_row)"
   ]
  },
  {
   "cell_type": "code",
   "execution_count": null,
   "id": "4514080b-61c1-400a-8ffa-afae3e43a1e3",
   "metadata": {
    "scrolled": true
   },
   "outputs": [],
   "source": [
    "#Filter out specific fields we want to keep\n",
    "fields_to_keep = ['ID', 'Severity', 'DelayFromFreeFlowSpeed(mins)', 'StartTime', 'Congestion_Speed', 'State', 'Pressure(in)', 'Visibility(mi)', 'WindSpeed(mph)', 'Precipitation(in)', 'Weather_Event']\n",
    "\n",
    "# 33m to 5m data if I filter out the 5 min or longer for traffic\n",
    "filtered_df = df.select(*fields_to_keep).where(col(\"State\").isNotNull()).where(col(\"DelayFromFreeFlowSpeed(mins)\") > 5.0)\n",
    "filtered_df.show()"
   ]
  },
  {
   "cell_type": "code",
   "execution_count": null,
   "id": "77d1eb80-570b-4055-ad35-17dbf12c972b",
   "metadata": {},
   "outputs": [],
   "source": [
    "state_count_df = filtered_df.groupBy(\"State\").count()\n",
    "state_count_df.show()"
   ]
  },
  {
   "cell_type": "code",
   "execution_count": null,
   "id": "912eb9b5-1ba6-4a20-9478-9ad3ae9e0e8a",
   "metadata": {},
   "outputs": [],
   "source": [
    "pdf = filtered_df.toPandas()"
   ]
  },
  {
   "cell_type": "code",
   "execution_count": null,
   "id": "45d7a0ff-a2b8-4acc-a932-411b83c0b542",
   "metadata": {},
   "outputs": [],
   "source": []
  }
 ],
 "metadata": {
  "kernelspec": {
   "display_name": "Python 3 (ipykernel)",
   "language": "python",
   "name": "python3"
  },
  "language_info": {
   "codemirror_mode": {
    "name": "ipython",
    "version": 3
   },
   "file_extension": ".py",
   "mimetype": "text/x-python",
   "name": "python",
   "nbconvert_exporter": "python",
   "pygments_lexer": "ipython3",
   "version": "3.11.6"
  }
 },
 "nbformat": 4,
 "nbformat_minor": 5
}
